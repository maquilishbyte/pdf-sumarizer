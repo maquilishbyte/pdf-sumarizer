{
  "cells": [
    {
      "cell_type": "code",
      "source": "!pip install -r requirements.txt",
      "metadata": {
        "source_hash": null,
        "is_code_hidden": false,
        "execution_start": 1689559923550,
        "execution_millis": 3299,
        "is_output_hidden": true,
        "deepnote_to_be_reexecuted": false,
        "deepnote_app_is_code_hidden": true,
        "deepnote_app_is_output_hidden": false,
        "cell_id": "05cd903ee0244d0699366dd0863cafd0",
        "deepnote_cell_type": "code"
      },
      "outputs": [
        {
          "name": "stdout",
          "text": "Collecting azure-ai-textanalytics==5.3.0b2\n  Downloading azure_ai_textanalytics-5.3.0b2-py3-none-any.whl (321 kB)\n\u001b[2K     \u001b[90m━━━━━━━━━━━━━━━━━━━━━━━━━━━━━━━━━━━━━━\u001b[0m \u001b[32m321.5/321.5 KB\u001b[0m \u001b[31m40.6 MB/s\u001b[0m eta \u001b[36m0:00:00\u001b[0m\n\u001b[?25hCollecting PyPDF2==3.0.1\n  Downloading pypdf2-3.0.1-py3-none-any.whl (232 kB)\n\u001b[2K     \u001b[90m━━━━━━━━━━━━━━━━━━━━━━━━━━━━━━━━━━━━━━\u001b[0m \u001b[32m232.6/232.6 KB\u001b[0m \u001b[31m39.8 MB/s\u001b[0m eta \u001b[36m0:00:00\u001b[0m\n\u001b[?25hRequirement already satisfied: isodate<1.0.0,>=0.6.1 in /shared-libs/python3.9/py/lib/python3.9/site-packages (from azure-ai-textanalytics==5.3.0b2->-r requirements.txt (line 1)) (0.6.1)\nRequirement already satisfied: typing-extensions>=4.0.1 in /shared-libs/python3.9/py/lib/python3.9/site-packages (from azure-ai-textanalytics==5.3.0b2->-r requirements.txt (line 1)) (4.4.0)\nCollecting azure-common~=1.1\n  Downloading azure_common-1.1.28-py2.py3-none-any.whl (14 kB)\nCollecting azure-core<2.0.0,>=1.24.0\n  Downloading azure_core-1.28.0-py3-none-any.whl (185 kB)\n\u001b[2K     \u001b[90m━━━━━━━━━━━━━━━━━━━━━━━━━━━━━━━━━━━━━━\u001b[0m \u001b[32m185.4/185.4 KB\u001b[0m \u001b[31m45.2 MB/s\u001b[0m eta \u001b[36m0:00:00\u001b[0m\n\u001b[?25hRequirement already satisfied: six>=1.11.0 in /shared-libs/python3.9/py-core/lib/python3.9/site-packages (from azure-core<2.0.0,>=1.24.0->azure-ai-textanalytics==5.3.0b2->-r requirements.txt (line 1)) (1.16.0)\nRequirement already satisfied: requests>=2.18.4 in /shared-libs/python3.9/py/lib/python3.9/site-packages (from azure-core<2.0.0,>=1.24.0->azure-ai-textanalytics==5.3.0b2->-r requirements.txt (line 1)) (2.28.1)\nRequirement already satisfied: certifi>=2017.4.17 in /shared-libs/python3.9/py/lib/python3.9/site-packages (from requests>=2.18.4->azure-core<2.0.0,>=1.24.0->azure-ai-textanalytics==5.3.0b2->-r requirements.txt (line 1)) (2022.9.24)\nRequirement already satisfied: idna<4,>=2.5 in /shared-libs/python3.9/py-core/lib/python3.9/site-packages (from requests>=2.18.4->azure-core<2.0.0,>=1.24.0->azure-ai-textanalytics==5.3.0b2->-r requirements.txt (line 1)) (3.4)\nRequirement already satisfied: charset-normalizer<3,>=2 in /shared-libs/python3.9/py-core/lib/python3.9/site-packages (from requests>=2.18.4->azure-core<2.0.0,>=1.24.0->azure-ai-textanalytics==5.3.0b2->-r requirements.txt (line 1)) (2.1.1)\nRequirement already satisfied: urllib3<1.27,>=1.21.1 in /shared-libs/python3.9/py/lib/python3.9/site-packages (from requests>=2.18.4->azure-core<2.0.0,>=1.24.0->azure-ai-textanalytics==5.3.0b2->-r requirements.txt (line 1)) (1.26.12)\nInstalling collected packages: azure-common, PyPDF2, azure-core, azure-ai-textanalytics\nSuccessfully installed PyPDF2-3.0.1 azure-ai-textanalytics-5.3.0b2 azure-common-1.1.28 azure-core-1.28.0\n\u001b[33mWARNING: You are using pip version 22.0.4; however, version 23.2 is available.\nYou should consider upgrading via the '/root/venv/bin/python -m pip install --upgrade pip' command.\u001b[0m\u001b[33m\n\u001b[0m",
          "output_type": "stream"
        }
      ],
      "execution_count": null
    },
    {
      "cell_type": "code",
      "source": "import re\nimport os\n\nfrom azure.ai.textanalytics import TextAnalyticsClient, ExtractSummaryAction\nfrom azure.core.credentials import AzureKeyCredential\nfrom PyPDF2 import PdfReader",
      "metadata": {
        "source_hash": null,
        "execution_start": 1689559926801,
        "execution_millis": 107,
        "deepnote_to_be_reexecuted": false,
        "cell_id": "e5a930bb84114ff78c96f85dc00d93e2",
        "deepnote_cell_type": "code"
      },
      "outputs": [],
      "execution_count": null
    },
    {
      "cell_type": "markdown",
      "source": "## Extraction",
      "metadata": {
        "cell_id": "6116f511905e4c85a6e3ff104763eae5",
        "formattedRanges": [],
        "deepnote_cell_type": "text-cell-h2"
      }
    },
    {
      "cell_type": "code",
      "source": "page_pattern = re.compile(r'Página\\s\\d+\\sde\\s\\d+')\ntext_pattern = re.compile(r\"1\\.\\d\")\ncap_pattern = re.compile(r\"\\d\\.\\s+[A-Z]+\")",
      "metadata": {
        "cell_id": "fa62d8457f0e43f7b262a7979ecdf54e",
        "source_hash": null,
        "execution_start": 1689559926887,
        "execution_millis": 5,
        "deepnote_to_be_reexecuted": false,
        "deepnote_cell_type": "code"
      },
      "outputs": [],
      "execution_count": null
    },
    {
      "cell_type": "code",
      "source": "db = open(\"pdf/Bases de datos.pdf\", \"rb\")\nreader = PdfReader(db)",
      "metadata": {
        "source_hash": null,
        "execution_start": 1689559926934,
        "execution_millis": 11,
        "deepnote_to_be_reexecuted": false,
        "cell_id": "dc8f2a1c370c40d88e0a0ab8f1007b8a",
        "deepnote_cell_type": "code"
      },
      "outputs": [],
      "execution_count": null
    },
    {
      "cell_type": "code",
      "source": "corpus = []\nfor pagei in range(len(reader.pages)):\n    page = reader.pages[pagei]\n    text = page.extract_text()\n    corpus.append(text)\ndb.close()",
      "metadata": {
        "source_hash": null,
        "execution_start": 1689559926935,
        "execution_millis": 277,
        "deepnote_to_be_reexecuted": false,
        "cell_id": "9168fb7f865142858704169febb1b0a9",
        "deepnote_cell_type": "code"
      },
      "outputs": [],
      "execution_count": null
    },
    {
      "cell_type": "markdown",
      "source": "### Authentication:",
      "metadata": {
        "cell_id": "3eb2c8ebec1944b49695a8d8dab2caae",
        "formattedRanges": [],
        "deepnote_cell_type": "text-cell-h3"
      }
    },
    {
      "cell_type": "code",
      "source": "key = os.environ[\"KEY\"]\nendpoint = os.environ[\"ENDPOINT\"]",
      "metadata": {
        "source_hash": null,
        "execution_start": 1689559927226,
        "execution_millis": 7,
        "deepnote_to_be_reexecuted": false,
        "cell_id": "797315cfb96a403d8cf1f480d8bee70c",
        "deepnote_cell_type": "code"
      },
      "outputs": [],
      "execution_count": null
    },
    {
      "cell_type": "code",
      "source": "text_analytics_client = TextAnalyticsClient(\n        endpoint=endpoint,\n        credential=AzureKeyCredential(key),\n    )",
      "metadata": {
        "cell_id": "193cc69e956046a1bdcfd565aefd3446",
        "source_hash": null,
        "execution_start": 1689559927227,
        "execution_millis": 32,
        "deepnote_to_be_reexecuted": false,
        "deepnote_cell_type": "code"
      },
      "outputs": [],
      "execution_count": null
    },
    {
      "cell_type": "code",
      "source": "def sample_extractive_summarization(client, document:list[str]):\n\n    output = []\n\n    poller = client.begin_analyze_actions(\n        document,\n        actions=[\n            ExtractSummaryAction(max_sentence_count=4)\n        ],\n    )\n\n    document_results = poller.result()\n    \n    for results in document_results:\n        for document in results:\n            output.append(\" \".join([sentence.text for sentence in document.sentences]))\n    return output",
      "metadata": {
        "source_hash": null,
        "execution_start": 1689560739758,
        "execution_millis": 9,
        "deepnote_to_be_reexecuted": false,
        "cell_id": "02bc9df50f4d4465ac855675646ae337",
        "deepnote_cell_type": "code"
      },
      "outputs": [],
      "execution_count": null
    },
    {
      "cell_type": "code",
      "source": "doc_summ = sample_extractive_summarization(text_analytics_client, corpus)",
      "metadata": {
        "source_hash": null,
        "execution_start": 1689560742394,
        "execution_millis": 5947,
        "deepnote_to_be_reexecuted": false,
        "cell_id": "b83e0c0947a74801894f4077676af423",
        "deepnote_cell_type": "code"
      },
      "outputs": [],
      "execution_count": null
    },
    {
      "cell_type": "markdown",
      "source": "### Extractive:",
      "metadata": {
        "cell_id": "65d2938edbdc42ddb3d1ca43e6c62bd3",
        "formattedRanges": [],
        "deepnote_cell_type": "text-cell-h3"
      }
    },
    {
      "cell_type": "code",
      "source": "def extractive_summarization(client, doc):\n\n    document = doc\n    output = []\n    summary = ''\n\n    poller = text_analytics_client.begin_extract_summary(document)\n    extract_summary_results = poller.result()\n    for result in extract_summary_results:\n        if result.kind == \"ExtractiveSummarization\":\n            summary =  \" \".join([sentence.text for sentence in result.sentences])\n            output.append(summary)\n            print(\"Summaries extractive:\")\n        elif result.is_error is True:\n            print(\"...Is an error with code '{}' and message '{}'\".format(\n                result.error.code, result.error.message\n            ))\n    \n    return output",
      "metadata": {
        "source_hash": null,
        "is_code_hidden": false,
        "execution_start": 1689555920010,
        "execution_millis": 43,
        "deepnote_to_be_reexecuted": true,
        "deepnote_app_is_code_hidden": false,
        "cell_id": "0303b27218f5442da4de77c69a7cb728",
        "deepnote_cell_type": "code"
      },
      "outputs": [],
      "execution_count": null
    },
    {
      "cell_type": "markdown",
      "source": "### Abstractive:",
      "metadata": {
        "cell_id": "961a535291a64b2283bf48d8bde0b856",
        "formattedRanges": [],
        "deepnote_cell_type": "text-cell-h3"
      }
    },
    {
      "cell_type": "code",
      "source": "def abstractive_summarization(client,docs:list[str]):\n\n    document:list[str] = docs\n    output = []\n\n    poller = text_analytics_client.begin_abstractive_summary(document)\n    abstractive_summary_results = poller.result()\n    for result in abstractive_summary_results:\n        if result.kind == \"AbstractiveSummarization\":\n            print(\"Summaries abstracted:\")\n            sumsum = [summary.text for summary in result.summaries]\n            output.append(sumsum)\n        elif result.is_error is True:\n            print(\"...Is an error with code '{}' and message '{}'\".format(\n                result.error.code, result.error.message\n            ))    \n    \n    return output",
      "metadata": {
        "source_hash": null,
        "is_code_hidden": false,
        "execution_start": 1689555920016,
        "execution_millis": 63,
        "deepnote_to_be_reexecuted": true,
        "deepnote_app_is_code_hidden": false,
        "cell_id": "85ed2f302da9437db9a5038c65cbe664",
        "deepnote_cell_type": "code"
      },
      "outputs": [],
      "execution_count": null
    },
    {
      "cell_type": "code",
      "source": "# db_summary = extractive_summarization(text_analytics_client, db)\n# random_summary = abstractive_summarization(text_analytics_client, random_numbers)",
      "metadata": {
        "source_hash": null,
        "is_code_hidden": false,
        "execution_start": 1689555920057,
        "execution_millis": 34,
        "deepnote_to_be_reexecuted": true,
        "deepnote_app_is_code_hidden": true,
        "cell_id": "19b921a1cfcc4578bc2ca4eb2802b3f1",
        "deepnote_cell_type": "code"
      },
      "outputs": [],
      "execution_count": null
    },
    {
      "cell_type": "code",
      "source": "# sum_sum = [page for array in random_summary for page in array]",
      "metadata": {
        "source_hash": null,
        "is_code_hidden": false,
        "execution_start": 1689555920083,
        "execution_millis": 49,
        "deepnote_to_be_reexecuted": true,
        "deepnote_app_is_code_hidden": true,
        "cell_id": "3d7a6035a90049af84289db9bef1aabb",
        "deepnote_cell_type": "code"
      },
      "outputs": [],
      "execution_count": null
    },
    {
      "cell_type": "markdown",
      "source": "### Persistence:",
      "metadata": {
        "formattedRanges": [],
        "cell_id": "bdeed58498034c37a3698a64bc7686b9",
        "deepnote_cell_type": "text-cell-h3"
      }
    },
    {
      "cell_type": "code",
      "source": "def persistence(datalist:list[str], name:str) -> None:\n    with open(name, mode=\"a\", encoding='utf8') as f:\n        for letter in datalist:\n            f.write(letter)",
      "metadata": {
        "source_hash": null,
        "is_code_hidden": false,
        "execution_start": 1689560818558,
        "execution_millis": 12,
        "deepnote_to_be_reexecuted": false,
        "deepnote_app_is_code_hidden": false,
        "cell_id": "cd387784d02342f7bbff0b8c2c3b7eb7",
        "deepnote_cell_type": "code"
      },
      "outputs": [],
      "execution_count": null
    },
    {
      "cell_type": "code",
      "source": "persistence(doc_summ, \"jum.txt\")",
      "metadata": {
        "source_hash": null,
        "execution_start": 1689560820566,
        "execution_millis": 14,
        "deepnote_to_be_reexecuted": false,
        "cell_id": "3514197b2c16427c8707cd09b0f0caee",
        "deepnote_cell_type": "code"
      },
      "outputs": [],
      "execution_count": null
    },
    {
      "cell_type": "markdown",
      "source": "<a style='text-decoration:none;line-height:16px;display:flex;color:#5B5B62;padding:10px;justify-content:end;' href='https://deepnote.com?utm_source=created-in-deepnote-cell&projectId=67cfeb36-b07e-45a6-acf2-83ce38aa6dfe' target=\"_blank\">\n<img alt='Created in deepnote.com' style='display:inline;max-height:16px;margin:0px;margin-right:7.5px;' src='data:image/svg+xml;base64,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' > </img>\nCreated in <span style='font-weight:600;margin-left:4px;'>Deepnote</span></a>",
      "metadata": {
        "created_in_deepnote_cell": true,
        "deepnote_cell_type": "markdown"
      }
    }
  ],
  "nbformat": 4,
  "nbformat_minor": 0,
  "metadata": {
    "deepnote": {},
    "orig_nbformat": 2,
    "deepnote_notebook_id": "2da24bb1cd6942749268d6c3638bdb7f",
    "deepnote_persisted_session": {
      "createdAt": "2023-07-17T02:33:46.523Z"
    },
    "deepnote_execution_queue": []
  }
}