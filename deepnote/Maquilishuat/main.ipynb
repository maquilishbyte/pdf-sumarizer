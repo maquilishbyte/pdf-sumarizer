{
 "cells": [
  {
   "cell_type": "code",
   "source": [
    "!pip install -r requirements.txt"
   ],
   "metadata": {
    "cell_id": "05cd903ee0244d0699366dd0863cafd0",
    "source_hash": null,
    "execution_start": 1689555917370,
    "execution_millis": 2532,
    "is_output_hidden": true,
    "deepnote_to_be_reexecuted": false,
    "deepnote_cell_type": "code"
   },
   "outputs": [
    {
     "name": "stdout",
     "text": "Requirement already satisfied: pdfminer.six==20221105 in /root/venv/lib/python3.9/site-packages (from -r requirements.txt (line 1)) (20221105)\nRequirement already satisfied: azure-ai-textanalytics==5.3.0b2 in /root/venv/lib/python3.9/site-packages (from -r requirements.txt (line 2)) (5.3.0b2)\nRequirement already satisfied: PyPDF2==3.0.1 in /root/venv/lib/python3.9/site-packages (from -r requirements.txt (line 3)) (3.0.1)\nRequirement already satisfied: cryptography>=36.0.0 in /shared-libs/python3.9/py/lib/python3.9/site-packages (from pdfminer.six==20221105->-r requirements.txt (line 1)) (36.0.2)\nRequirement already satisfied: charset-normalizer>=2.0.0 in /shared-libs/python3.9/py-core/lib/python3.9/site-packages (from pdfminer.six==20221105->-r requirements.txt (line 1)) (2.1.1)\nRequirement already satisfied: isodate<1.0.0,>=0.6.1 in /shared-libs/python3.9/py/lib/python3.9/site-packages (from azure-ai-textanalytics==5.3.0b2->-r requirements.txt (line 2)) (0.6.1)\nRequirement already satisfied: azure-common~=1.1 in /root/venv/lib/python3.9/site-packages (from azure-ai-textanalytics==5.3.0b2->-r requirements.txt (line 2)) (1.1.28)\nRequirement already satisfied: typing-extensions>=4.0.1 in /shared-libs/python3.9/py/lib/python3.9/site-packages (from azure-ai-textanalytics==5.3.0b2->-r requirements.txt (line 2)) (4.4.0)\nRequirement already satisfied: azure-core<2.0.0,>=1.24.0 in /root/venv/lib/python3.9/site-packages (from azure-ai-textanalytics==5.3.0b2->-r requirements.txt (line 2)) (1.28.0)\nRequirement already satisfied: requests>=2.18.4 in /shared-libs/python3.9/py/lib/python3.9/site-packages (from azure-core<2.0.0,>=1.24.0->azure-ai-textanalytics==5.3.0b2->-r requirements.txt (line 2)) (2.28.1)\nRequirement already satisfied: six>=1.11.0 in /shared-libs/python3.9/py-core/lib/python3.9/site-packages (from azure-core<2.0.0,>=1.24.0->azure-ai-textanalytics==5.3.0b2->-r requirements.txt (line 2)) (1.16.0)\nRequirement already satisfied: cffi>=1.12 in /shared-libs/python3.9/py-core/lib/python3.9/site-packages (from cryptography>=36.0.0->pdfminer.six==20221105->-r requirements.txt (line 1)) (1.15.1)\nRequirement already satisfied: pycparser in /shared-libs/python3.9/py-core/lib/python3.9/site-packages (from cffi>=1.12->cryptography>=36.0.0->pdfminer.six==20221105->-r requirements.txt (line 1)) (2.21)\nRequirement already satisfied: urllib3<1.27,>=1.21.1 in /shared-libs/python3.9/py/lib/python3.9/site-packages (from requests>=2.18.4->azure-core<2.0.0,>=1.24.0->azure-ai-textanalytics==5.3.0b2->-r requirements.txt (line 2)) (1.26.12)\nRequirement already satisfied: certifi>=2017.4.17 in /shared-libs/python3.9/py/lib/python3.9/site-packages (from requests>=2.18.4->azure-core<2.0.0,>=1.24.0->azure-ai-textanalytics==5.3.0b2->-r requirements.txt (line 2)) (2022.9.24)\nRequirement already satisfied: idna<4,>=2.5 in /shared-libs/python3.9/py-core/lib/python3.9/site-packages (from requests>=2.18.4->azure-core<2.0.0,>=1.24.0->azure-ai-textanalytics==5.3.0b2->-r requirements.txt (line 2)) (3.4)\n\u001B[33mWARNING: You are using pip version 22.0.4; however, version 23.2 is available.\nYou should consider upgrading via the '/root/venv/bin/python -m pip install --upgrade pip' command.\u001B[0m\u001B[33m\n\u001B[0m",
     "output_type": "stream"
    }
   ],
   "execution_count": null
  },
  {
   "cell_type": "code",
   "source": [
    "import re\n",
    "import os\n",
    "\n",
    "from azure.ai.textanalytics import TextAnalyticsClient, ExtractSummaryAction\n",
    "from azure.core.credentials import AzureKeyCredential\n",
    "from PyPDF2 import PdfReader"
   ],
   "metadata": {
    "source_hash": null,
    "execution_start": 1689555919805,
    "execution_millis": 195,
    "deepnote_to_be_reexecuted": false,
    "cell_id": "e5a930bb84114ff78c96f85dc00d93e2",
    "deepnote_cell_type": "code"
   },
   "outputs": [],
   "execution_count": null
  },
  {
   "cell_type": "markdown",
   "source": [
    "## Extraction"
   ],
   "metadata": {
    "cell_id": "6116f511905e4c85a6e3ff104763eae5",
    "formattedRanges": [],
    "deepnote_cell_type": "text-cell-h2"
   }
  },
  {
   "cell_type": "code",
   "source": [
    "page_pattern = re.compile(r'Página\\s\\d+\\sde\\s\\d+')\n",
    "text_pattern = re.compile(r\"1\\.\\d\")\n",
    "cap_pattern = re.compile(r\"\\d\\.\\s+[A-Z]+\")"
   ],
   "metadata": {
    "cell_id": "fa62d8457f0e43f7b262a7979ecdf54e",
    "source_hash": null,
    "execution_start": 1689555919981,
    "execution_millis": 73,
    "deepnote_to_be_reexecuted": false,
    "deepnote_cell_type": "code"
   },
   "outputs": [],
   "execution_count": null
  },
  {
   "cell_type": "code",
   "source": [
    "db = open(\"pdf/Bases de datos.pdf\", \"rb\")\n",
    "reader = PdfReader(db)"
   ],
   "metadata": {
    "source_hash": null,
    "execution_start": 1689556003684,
    "execution_millis": 39,
    "deepnote_to_be_reexecuted": false,
    "cell_id": "dc8f2a1c370c40d88e0a0ab8f1007b8a",
    "deepnote_cell_type": "code"
   },
   "outputs": [],
   "execution_count": null
  },
  {
   "cell_type": "code",
   "source": [
    "corpus = []\n",
    "for pagei in range(len(reader.pages)):\n",
    "    page = reader.pages[pagei]\n",
    "    text = page.extract_text()\n",
    "    corpus.append(text)\n",
    "db.close()"
   ],
   "metadata": {
    "source_hash": null,
    "execution_start": 1689556133045,
    "execution_millis": 323,
    "deepnote_to_be_reexecuted": false,
    "cell_id": "9168fb7f865142858704169febb1b0a9",
    "deepnote_cell_type": "code"
   },
   "outputs": [],
   "execution_count": null
  },
  {
   "cell_type": "code",
   "source": [
    "corpus"
   ],
   "metadata": {
    "source_hash": null,
    "execution_start": 1689556495973,
    "execution_millis": 467,
    "deepnote_to_be_reexecuted": false,
    "cell_id": "05e203baee284956a65518ec0f33861c",
    "deepnote_cell_type": "code"
   },
   "outputs": [
    {
     "output_type": "execute_result",
     "execution_count": 28,
     "data": {
      "text/plain": "['  UNIVERSIDAD DE EL SALVADOR EN LÍNEA  \\n FACULTAD DE INGENIERÍA Y ARQUITECTURA  \\n PROGRAMACION  III \\nEste material ha sido proporcionado al estudiante en el marco de su formación a través de una carrera en línea en \\nla Universidad de El Salvador.  Se han respetado los derechos de autor para su elaboración. El debido uso del mismo es \\nresponsabilidad del estudiante . ALMACENAMIENTO DE DATOS\\n1.INTRODUCCIÓN\\nHasta el momento hemos estudiado el almacenamiento de datos; utilizando archivos de texto, \\nasí como tablas contendidas en bases de datos.  \\nEs importante tener en mente los conceptos relacionados al manejo de bases de datos \\nrelacionales, y su gestión a través de lenguaje SQL.  \\nPero de nada serviría tener una aplicación y una base de datos; sin que se relacionaran. \\nRecordemos que a  travé s de los programas de nuestra aplicación, vamos a gestionar los datos \\nalmacenados en l a base de datos.  \\nPara efectuar dicha correlación de componentes, deberemos  lograr enlazar nuestra aplicación \\ncon la base de datos; a través del correspondiente driver proporciona do por el fabricante del \\ngestor de datos.  \\nLo interesante , es que podemos lleva r instrucciones SQL  a nuestras clases java e insertarlas para \\nsu correspondiente procesamiento. Estas clases Java  importan librerías que nos permiten la \\nconexión, pero además debemos agregar un String con el  cual vamos a colocar todas las \\ndirectrices neces arias para llegar hasta la base de datos. Dentro de estas directrices se encuentra \\nel nombre de la base de datos, el usuario, su clave, el puerto por defecto de nuestro gestor (para \\nel caso de nuestra herramienta postgress sql, será el puerto 5232)  y la di rección del servidor . \\nEs necesario  comprender que cada gestor de base de datos , tiene asignado un puerto por \\ndefecto, con el objetivo de evitar colisiones con otros gestores.  \\n2.OBJETIVO DE LA UNIDA D\\nGeneral:\\n\\uf0fcImplementar soluciones informáticas reales, utili zando correctamente y éticamente\\nestructuras de almacenamiento de datos.\\nEspecíficos:  \\n\\uf0fcDescribir los diversos modelos JDBC para la conectividad con Bases de Datos.\\n\\uf0fcImplementar clases en lenguaje Java, que se conecten con los diversos gestores de\\nbases de d atos y le envíen instrucciones SQL.',\n '  UNIVERSIDAD DE EL SALVADOR EN LÍNEA  \\n                                         FACULTAD DE INGENIERÍA Y ARQUITECTURA  \\n                                                                                                        PROGRAMACIONIII  \\n \\nEste material ha sido proporcionado al estudiante en el marco de su formación a través de una carrera en línea en \\nla Universidad de El Salvador.  Se han respetado los derechos de autor para su elaboración. El debido uso del mismo es \\nresponsabilidad del estudiante . 3. ACCESANDO BASE DE DA TOS RELACIONALES  \\nEn diversas aplicaciones,  para lograr la conectividad entre ella y el gestor de base de datos, se  \\nutiliza  un ODBC; el cual tiene las siguientes características:  \\n\\uf0fc Transforma la sintaxis  SQL, en una sintaxis que comprenda el gestor de bases de datos.  \\n \\n\\uf0fc De esa manera  se puede cargar  en la aplicación,  el driver correspondiente del gestor de \\nbases de datos, y tener la comunicación con este.  \\n \\n\\uf0fc Gracias a los drivers  podemos conectarnos a infinidad de gestores de bases de datos, tales \\ncomo: Postrgress SQL, Oracle, DB2, Informix, etc.  Cada gestor de base de datos, tiene su \\ncorrespondiente driver . \\n \\nComo ya mencionamos  ODBC nos permite conectar la aplicación con una base de datos, pero no \\ntiene portabilidad como tal. Por lo que Java ideo un grupo de programas que me permiten \\nconectar ambos componentes, pero atendiendo la portabilidad que todas las aplicaciones Java \\ntienen.  \\nEsta solución Java, toma el nombre de JDBC con las siguientes características:  \\n\\uf0fc API de Java, que permite la conexión desde la aplicación Java hasta la base de datos, para \\npoder gestionar la información que está dentro de ella.  \\n \\n\\uf0fc Este driver  convierte el  lenguaje de alto nivel, en un lenguaj e que entiende la base de \\ndatos; y de esa forma gestionar sus datos.  \\n \\n  \\n',\n '  UNIVERSIDAD DE EL SALVADOR EN LÍNEA  \\n                                         FACULTAD DE INGENIERÍA Y ARQUITECTURA  \\n                                                                                                        PROGRAMACIONIII  \\n \\nEste material ha sido proporcionado al estudiante en el marco de su formación a través de una carrera en línea en \\nla Universidad de El Salvador.  Se han respetado los derechos de autor para su elaboración. El debido uso del mismo es \\nresponsabilidad del estudiante . Por lo tanto, podemos decir, que las tres acciones básicas del JDBC, son:  \\n\\uf0fc Conectarse a una base de datos local o remota.  \\n\\uf0fc Enviar sentencias SQL a l a base de datos.  \\n\\uf0fc Gestionar la información de dicha base de datos.  \\n \\n¿Qué hacer para que nuestra aplicación Java, se comunique con una base de datos?  \\n\\uf0fc Utilizar  la API de JDBC.  \\n \\n\\uf0fc Utilizar u n driver JDBC , ya que este  implementa la interfaz para conectarse a una base de \\ndatos.  \\n \\n\\uf0fc Deberemos agregar a nuestra aplicación,  el driver correspondiente al gestor de bases de \\ndatos que estamos usando.  \\n \\nAdemás de los puntos anteriores, para la conectividad JDBC debemos tomar en cuenta, lo \\nsiguiente:  \\n\\uf0fc JDBC, es una serie de clase s y métodos que permiten a cualquier programa Java, \\nconectarse de forma homogénea a cualquier base de datos.  \\n \\n\\uf0fc El acceso a la base de datos es a través de drivers, que son los que implementan la \\nfuncionabilidad de JDBC.  \\n \\n\\uf0fc La necesidad de JDBC para programas Java, es que este mantiene la capacidad de \\nportabilidad; algo de lo que carece ODBC.  \\n \\n\\uf0fc ODBC debe instalarse manualmente en cada computadora; por otra parte, los drivers \\nJDBC son portables y seguros al ser escritos directamente para Java.  \\n \\n\\uf0fc Las sentencias SQL , pasan a través de JDBC para poder gestionar la información de una \\nbase de datos.  \\n \\n\\uf0fc JDBC, permite desde una transacción simple actualizar múltiples registros de una base de \\ndatos; así como acceder a múltiples servidores de bases de datos.  ',\n '  UNIVERSIDAD DE EL SALVADOR EN LÍNEA  \\n                                         FACULTAD DE INGENIERÍA Y ARQUITECTURA  \\n                                                                                                        PROGRAMACIONIII  \\n \\nEste material ha sido proporcionado al estudiante en el marco de su formación a través de una carrera en línea en \\nla Universidad de El Salvador.  Se han respetado los derechos de autor para su elaboración. El debido uso del mismo es \\nresponsabilidad del estudiante .  \\n\\uf0fc A través del con nection pooling, JDBC permite ejecutar múltiples sentencias SQL, con una \\nsola conexión.  \\n \\n\\uf0fc JDBC, permite acceder a bases de datos incompatible que corran en diferente tecnología.  \\n \\n\\uf0fc JDBC, soporta dos modelos de accesos a las bases de datos; como lo son el modelo de dos \\ny tres capas.  \\n \\n3.1 MODELO DE DOS CAPAS  \\nEste modelo, prácticamente es una aplicación Java conectándose de forma directa a una base de \\ndatos; por lo que:  \\n\\uf0fc El driver JDBC, deberá residir en el sistema local para poder conectarse a la base de dat os. \\n \\n\\uf0fc La base de datos puede estar ubicada físicamente en cualquier lugar, y se accede a ella \\nmediante red.  \\n \\n\\uf0fc Se base en una conexión Cliente – Servidor; en la cual el programa Java envía \\ndirectamente las sentencias SQL a la base de datos para la gestión de la información.  \\n \\n',\n '  UNIVERSIDAD DE EL SALVADOR EN LÍNEA  \\n                                         FACULTAD DE INGENIERÍA Y ARQUITECTURA  \\n                                                                                                        PROGRAMACIONIII  \\n \\nEste material ha sido proporcionado al estudiante en el marco de su formación a través de una carrera en línea en \\nla Universidad de El Salvador.  Se han respetado los derechos de autor para su elaboración. El debido uso del mismo es \\nresponsabilidad del estudiante .  \\n \\n3.2 MODELO DE TRES C APAS  \\nEs ideal para ambientes web. Sus características son:  \\n\\uf0fc Las instrucciones se envían a una capa media, entre el cliente y el servidor. Dicha capa \\nintermedia envía las instrucciones SQL a la base de datos, y recoge los resultados de esta \\npara exponerlos al cliente.  \\n \\n\\uf0fc El cliente no tiene contacto directo con la base de datos.  \\n \\n\\uf0fc El driver JDBC solamente reside en la capa media, que a su vez tiene todo el control con \\nla comunicación a la base de datos.  \\n \\n',\n '  UNIVERSIDAD DE EL SALVADOR EN LÍNEA  \\n                                         FACULTAD DE INGENIERÍA Y ARQUITECTURA  \\n                                                                                                        PROGRAMACIONIII  \\n \\nEste material ha sido proporcionado al estudiante en el marco de su formación a través de una carrera en línea en \\nla Universidad de El Salvador.  Se han respetado los derechos de autor para su elaboración. El debido uso del mismo es \\nresponsabilidad del estudiante .  \\n \\nConsideraciones:  \\nEn algunas ocasiones por temas monetarios, de infraestructura, entre otros; se decide no entrar \\ndirectamente a una configuración con JDBC, sino que efectuar un puente JDBC – ODBC para \\npoder realizar la comunicación entre aplicación y la ba se de datos. Importante en este caso, tener \\nen cuenta que el puente deberá ser una solución momentánea; ya que para obtener todos los \\nbeneficios del JDBC, tendremos que migrar totalmente hacia él.  \\nA continuación, un ejemplo  de estos puentes:  \\n \\nCaracterísti cas: \\n\\uf0fc Aprovecha las configuraciones existentes; y en base a esto establece el puente JDBC -\\nODBC.  \\n\\uf0fc Este driver hace la conversión de llamadas JDBC hacia ODBC.  \\n \\n',\n '  UNIVERSIDAD DE EL SALVADOR EN LÍNEA  \\n                                         FACULTAD DE INGENIERÍA Y ARQUITECTURA  \\n                                                                                                        PROGRAMACIONIII  \\n \\nEste material ha sido proporcionado al estudiante en el marco de su formación a través de una carrera en línea en \\nla Universidad de El Salvador.  Se han respetado los derechos de autor para su elaboración. El debido uso del mismo es \\nresponsabilidad del estudiante . Desventaja:  \\n\\uf0fc Esta configuración agrega dos capas más, ya que el ODBC convierte sus llamadas, a \\ninstru cciones nativas de los gestores de bases de datos. Lo anterior puede generar algún \\ngrado de lentitud en la gestión de los datos.  \\n \\n3.3 CÓDIGO CON JDBC Y SQL.  \\n\\uf0fc Declaración de un objeto del tipo conexión a la base de datos:  Connection conexion;  \\n \\n\\uf0fc Instrucciones para cargar el Driver JDBC para SqlServer, utilizando el méto do forName() \\nde la clase Class. Por ejemplo:  \\n \\ntry{ \\n    Class.forName(\"com.microsoft.sqlserver. jdbcSQLServerDriver\").newInstance());  \\n} \\ncatch(Exception e){  \\n    informacion.setText( \"No se pudo cargar el Driver JDBC\");  \\n} \\n \\nPara MySQLel parámetr o sería: “com.mysql.jdbc.Driver” .  \\nLo anterior debido a que cada gestor de bases de datos, tiene su correspondiente driver.  \\n \\n\\uf0fc La conexión  al SGBD se realiza solicitándolo a la clase DriverManager.  Por ejemplo:  \\nStringconnectionUrl=\"jdbc:sqlserver://localhost:1433;\" + \"databaseName=pubs;user=sa; \\npassword=adminadmin;\";  \\nconexion=DriverManager.getConnection(connectionUrl);  \\nEn esta sentencia podemos identificar los siguientes elementos:  \\n\\uf0b7 El driver del gestor sqlserver.  \\n \\n\\uf0b7 La base de datos está residiendo localmente; por lo tanto, es  un localhost.  \\n \\n ',\n '  UNIVERSIDAD DE EL SALVADOR EN LÍNEA  \\n                                         FACULTAD DE INGENIERÍA Y ARQUITECTURA  \\n                                                                                                        PROGRAMACIONIII  \\n \\nEste material ha sido proporcionado al estudiante en el marco de su formación a través de una carrera en línea en \\nla Universidad de El Salvador.  Se han respetado los derechos de autor para su elaboración. El debido uso del mismo es \\nresponsabilidad del estudiante . \\uf0b7 El puerto por defecto de sqlserver es el 1433.  Si fuera el de Postgress sería 5432, \\ny si trabajáramos con Mysql fuera el 3306.  \\n \\n\\uf0b7 Podemos visualiza r que se coloca el nombre de la base de datos, el usuario y el \\npassword.  \\n \\nA continuación, realizaremos un ejemplo con conexión a PostgressSQL:  \\n \\n \\n\\uf0fc conexion=DriverManager.getConnection(\"jdbc:postgresql://localhost:5432/prn315\", \\n\"prn315\", \"prn315\");  \\nCreamos u n objeto del tipo Connection, y lo asociamos al String de conexión de \\nPostgresSql.  \\n \\n\\uf0fc Statement sentencia=conexion.createStatement();  \\nLuego creamos un objeto del tipo Sta tement, con el cual se van a ejecutar todas las \\nsentencias SQL de la conexión creada pre viamente.  \\n \\nPara la ejecución de esas sentencias existen dos métodos:  \\n\\uf0b7 execute / executeUpdate(String sentencia)  \\nEjecuta sentencias SQL, que no devuelven resultados. Por ejemplo:  \\nPara borrar una tabla.  \\nsentencia.executeUpdate(“drop table if exists datospersonales”);  \\n \\n \\n',\n '  UNIVERSIDAD DE EL SALVADOR EN LÍNEA  \\n                                         FACULTAD DE INGENIERÍA Y ARQUITECTURA  \\n                                                                                                        PROGRAMACIONIII  \\n \\nEste material ha sido proporcionado al estudiante en el marco de su formación a través de una carrera en línea en \\nla Universidad de El Salvador.  Se han respetado los derechos de autor para su elaboración. El debido uso del mismo es \\nresponsabilidad del estudiante . Para crear una tabla.  \\nsentencia.executeUpdate (\"create table  datospersonales (“+\"nombre \\nchar(20),“+\"apellidos varchar(25),“+\"fecha_nac date not  null,“+\"telefono \\nchar(10),“+\"salario float )\") ;  \\n \\nPara crear una llave primaria.  \\nsentencia.executeUpdate (\"alter table  datospersonales \" +\"add constraint  \\npk_datosperson \"+\"primary key using btree(nombre, apellidos)\" ) ;  \\n \\nPara insertar un registro.  \\nString sql_add =\"INSERT INTO DATOSPERSONALES VALUES  \\n(\\' \" + nombre.getText().toUpperCase() +  \"\\', \\'\" +  \\napellidos.getText().toUpperCase() +\"\\', \\'\"+ fech_nac.getText()+ \"\\', \\'\"  \\n+ telefono.getText() + \"\\', \" + salario.getText()+ \") \" ;  \\n \\nsentencia.executeUpdate (sql_add ); \\n \\n\\uf0b7 executeQuery(String sentencia)  \\nEjecuta sentencias SQL, que devuelven resultados en un objeto del tipo \\nResulSet.  \\n \\nPara seleccionar datos.  \\nString sql_str  = \"SELECT * FROM DATOSPERSONALES\" ;  \\nResultSet resultado= sentencia.executeQuery (sql_str ); \\n \\nPara finalizar mencionaremos, los aspectos más importantes a tomar en cuenta; cuando \\ndesarrollemos una aplicación que tenga conexión con una base de datos:  \\n\\uf0fc Determinar el gestor de bases de datos que se utilizará. Generalmente esto depende \\nde la Organización en que estemos, y del grado de transaccio nabilidad que \\nnecesitemos.  \\n \\n\\uf0fc Obtener el driver del gestor de bases de datos a utilizar.  \\n ',\n '  UNIVERSIDAD DE EL SALVADOR EN LÍNEA  \\n                                         FACULTAD DE INGENIERÍA Y ARQUITECTURA  \\n                                                                                                        PROGRAMACIONIII  \\n \\nEste material ha sido proporcionado al estudiante en el marco de su formación a través de una carrera en línea en \\nla Universidad de El Salvador.  Se han respetado los derechos de autor para su elaboración. El debido uso del mismo es \\nresponsabilidad del estudiante . \\uf0fc Determinar nuestros string de conexión, en base al driver, el puerto por defecto, el \\nnombre de la base de datos, el usuario y password.  \\n \\n\\uf0fc Agregar en la librería de nuestro proyecto, el driver correspondiente al gestor de bases \\nde datos, para que puedan comunicarse y realizar la gestión de los datos.  \\n \\n \\n \\n']"
     },
     "metadata": {}
    }
   ],
   "execution_count": null
  },
  {
   "cell_type": "code",
   "source": [
    "corpus[4]"
   ],
   "metadata": {
    "source_hash": null,
    "execution_start": 1689556225286,
    "execution_millis": 124,
    "deepnote_to_be_reexecuted": false,
    "cell_id": "2c2d0468496c4fbba462887157605653",
    "deepnote_cell_type": "code"
   },
   "outputs": [
    {
     "output_type": "execute_result",
     "execution_count": 26,
     "data": {
      "text/plain": "'  UNIVERSIDAD DE EL SALVADOR EN LÍNEA  \\n                                         FACULTAD DE INGENIERÍA Y ARQUITECTURA  \\n                                                                                                        PROGRAMACIONIII  \\n \\nEste material ha sido proporcionado al estudiante en el marco de su formación a través de una carrera en línea en \\nla Universidad de El Salvador.  Se han respetado los derechos de autor para su elaboración. El debido uso del mismo es \\nresponsabilidad del estudiante .  \\n \\n3.2 MODELO DE TRES C APAS  \\nEs ideal para ambientes web. Sus características son:  \\n\\uf0fc Las instrucciones se envían a una capa media, entre el cliente y el servidor. Dicha capa \\nintermedia envía las instrucciones SQL a la base de datos, y recoge los resultados de esta \\npara exponerlos al cliente.  \\n \\n\\uf0fc El cliente no tiene contacto directo con la base de datos.  \\n \\n\\uf0fc El driver JDBC solamente reside en la capa media, que a su vez tiene todo el control con \\nla comunicación a la base de datos.  \\n \\n'"
     },
     "metadata": {}
    }
   ],
   "execution_count": null
  },
  {
   "cell_type": "code",
   "source": [
    "# random_numbers = extract_text(\"/work/pdf/Generar numeros pseudo aleatorios.pdf\")\n",
    "# poo_objects = extract_text(\"/work/pdf/POO Clases y Objetos.pdf\")\n",
    "# db = extract_text(\"/work/pdf/Bases de datos.pdf\")"
   ],
   "metadata": {
    "source_hash": null,
    "is_code_hidden": true,
    "execution_start": 1689555919983,
    "execution_millis": 9,
    "deepnote_to_be_reexecuted": false,
    "deepnote_app_is_code_hidden": true,
    "cell_id": "53750f0350864c3493109ccb1e9873ca",
    "deepnote_cell_type": "code"
   },
   "outputs": [],
   "execution_count": null
  },
  {
   "cell_type": "code",
   "source": [
    "# random_numbers = re.split(text_pattern,random_numbers)"
   ],
   "metadata": {
    "source_hash": null,
    "is_code_hidden": true,
    "execution_start": 1689555919984,
    "execution_millis": 101,
    "deepnote_to_be_reexecuted": false,
    "deepnote_app_is_code_hidden": true,
    "cell_id": "90593dfb7bd64421a956258456d31bc9",
    "deepnote_cell_type": "code"
   },
   "outputs": [],
   "execution_count": null
  },
  {
   "cell_type": "markdown",
   "source": [
    "Due the split was in number.number pattern, at index the document was splitted multiple time, so was necessary remove those splits. From there borns the new caps variable."
   ],
   "metadata": {
    "cell_id": "cdcaee0fcff14f09b417f19569a73529",
    "formattedRanges": [],
    "deepnote_cell_type": "text-cell-p"
   }
  },
  {
   "cell_type": "markdown",
   "source": [
    "## Traslation"
   ],
   "metadata": {
    "cell_id": "924aaef67db6461cb1f5b0d59472316e",
    "formattedRanges": [],
    "deepnote_cell_type": "text-cell-h2"
   }
  },
  {
   "cell_type": "markdown",
   "source": [
    "Using the traslation functionality to traslate from english output to spanish due model gives the output in english."
   ],
   "metadata": {
    "cell_id": "193543f5-af06-4329-879c-4bf4adce19f8",
    "formattedRanges": [],
    "deepnote_cell_type": "text-cell-p"
   }
  },
  {
   "cell_type": "code",
   "source": [],
   "metadata": {
    "cell_id": "a6c02962a6d546e384eda23e6fc6daa8",
    "source_hash": null,
    "execution_start": 1689555919995,
    "execution_millis": 114,
    "deepnote_to_be_reexecuted": false,
    "deepnote_cell_type": "code"
   },
   "outputs": [],
   "execution_count": null
  },
  {
   "cell_type": "markdown",
   "source": [
    "## Analysis"
   ],
   "metadata": {
    "cell_id": "d6be24530856477d933d91a58419420a",
    "formattedRanges": [],
    "deepnote_cell_type": "text-cell-h2"
   }
  },
  {
   "cell_type": "markdown",
   "source": [
    "Using language services from Azure Cognitive Services from Azure"
   ],
   "metadata": {
    "cell_id": "64ede549-2d97-4fe7-8fd9-22f8581f88b1",
    "formattedRanges": [],
    "deepnote_cell_type": "text-cell-p"
   }
  },
  {
   "cell_type": "markdown",
   "source": [
    "### Authentication:"
   ],
   "metadata": {
    "cell_id": "3eb2c8ebec1944b49695a8d8dab2caae",
    "formattedRanges": [],
    "deepnote_cell_type": "text-cell-h3"
   }
  },
  {
   "cell_type": "code",
   "source": [
    "key = os.environ[\"KEY\"]\n",
    "endpoint = os.environ[\"ENDPOINT\"]"
   ],
   "metadata": {
    "source_hash": null,
    "execution_start": 1689555920001,
    "execution_millis": 39,
    "deepnote_to_be_reexecuted": false,
    "cell_id": "797315cfb96a403d8cf1f480d8bee70c",
    "deepnote_cell_type": "code"
   },
   "outputs": [],
   "execution_count": null
  },
  {
   "cell_type": "code",
   "source": [
    "text_analytics_client = TextAnalyticsClient(\n",
    "        endpoint=endpoint,\n",
    "        credential=AzureKeyCredential(key),\n",
    "    )"
   ],
   "metadata": {
    "cell_id": "193cc69e956046a1bdcfd565aefd3446",
    "source_hash": null,
    "execution_start": 1689555920002,
    "execution_millis": 100,
    "deepnote_to_be_reexecuted": false,
    "deepnote_cell_type": "code"
   },
   "outputs": [],
   "execution_count": null
  },
  {
   "cell_type": "markdown",
   "source": [
    "### Extraction:"
   ],
   "metadata": {
    "formattedRanges": [],
    "cell_id": "b661bde95e254fad8179214e77f7fc81",
    "deepnote_cell_type": "text-cell-h3"
   }
  },
  {
   "cell_type": "code",
   "source": [
    "def sample_extractive_summarization(client, document:list[str]):\n",
    "\n",
    "    poller = client.begin_analyze_actions(\n",
    "        document,\n",
    "        actions=[\n",
    "            ExtractSummaryAction(max_sentence_count=4)\n",
    "        ],\n",
    "    )\n",
    "\n",
    "    document_results = poller.result()\n",
    "    for result in document_results:\n",
    "        extract_summary_result = result[0]  # first document, first result\n",
    "        if extract_summary_result.is_error:\n",
    "            print(\"...Is an error with code '{}' and message '{}'\".format(\n",
    "                extract_summary_result.code, extract_summary_result.message\n",
    "            ))\n",
    "        else:\n",
    "            output =  \"\".join([sentence.text for sentence in extract_summary_result.sentences])\n",
    "            return output"
   ],
   "metadata": {
    "source_hash": null,
    "execution_start": 1689556747606,
    "execution_millis": 16,
    "deepnote_to_be_reexecuted": false,
    "cell_id": "02bc9df50f4d4465ac855675646ae337",
    "deepnote_cell_type": "code"
   },
   "outputs": [],
   "execution_count": null
  },
  {
   "cell_type": "code",
   "source": [
    "doc_summ = sample_extractive_summarization(text_analytics_client, corpus)"
   ],
   "metadata": {
    "source_hash": null,
    "execution_start": 1689556749797,
    "execution_millis": 11011,
    "deepnote_to_be_reexecuted": false,
    "cell_id": "b83e0c0947a74801894f4077676af423",
    "deepnote_cell_type": "code"
   },
   "outputs": [],
   "execution_count": null
  },
  {
   "cell_type": "markdown",
   "source": [
    "### Extractive:"
   ],
   "metadata": {
    "cell_id": "65d2938edbdc42ddb3d1ca43e6c62bd3",
    "formattedRanges": [],
    "deepnote_cell_type": "text-cell-h3"
   }
  },
  {
   "cell_type": "code",
   "source": [
    "def extractive_summarization(client, doc):\n",
    "\n",
    "    document = doc\n",
    "    output = []\n",
    "    summary = ''\n",
    "\n",
    "    poller = text_analytics_client.begin_extract_summary(document)\n",
    "    extract_summary_results = poller.result()\n",
    "    for result in extract_summary_results:\n",
    "        if result.kind == \"ExtractiveSummarization\":\n",
    "            summary =  \" \".join([sentence.text for sentence in result.sentences])\n",
    "            output.append(summary)\n",
    "            print(\"Summaries extractive:\")\n",
    "        elif result.is_error is True:\n",
    "            print(\"...Is an error with code '{}' and message '{}'\".format(\n",
    "                result.error.code, result.error.message\n",
    "            ))\n",
    "    \n",
    "    return output"
   ],
   "metadata": {
    "source_hash": null,
    "is_code_hidden": false,
    "execution_start": 1689555920010,
    "execution_millis": 43,
    "deepnote_to_be_reexecuted": false,
    "deepnote_app_is_code_hidden": false,
    "cell_id": "0303b27218f5442da4de77c69a7cb728",
    "deepnote_cell_type": "code"
   },
   "outputs": [],
   "execution_count": null
  },
  {
   "cell_type": "markdown",
   "source": [
    "### Abstractive:"
   ],
   "metadata": {
    "cell_id": "961a535291a64b2283bf48d8bde0b856",
    "formattedRanges": [],
    "deepnote_cell_type": "text-cell-h3"
   }
  },
  {
   "cell_type": "code",
   "source": [
    "def abstractive_summarization(client,docs:list[str]):\n",
    "\n",
    "    document:list[str] = docs\n",
    "    output = []\n",
    "\n",
    "    poller = text_analytics_client.begin_abstractive_summary(document)\n",
    "    abstractive_summary_results = poller.result()\n",
    "    for result in abstractive_summary_results:\n",
    "        if result.kind == \"AbstractiveSummarization\":\n",
    "            print(\"Summaries abstracted:\")\n",
    "            sumsum = [summary.text for summary in result.summaries]\n",
    "            output.append(sumsum)\n",
    "        elif result.is_error is True:\n",
    "            print(\"...Is an error with code '{}' and message '{}'\".format(\n",
    "                result.error.code, result.error.message\n",
    "            ))    \n",
    "    \n",
    "    return output"
   ],
   "metadata": {
    "source_hash": null,
    "is_code_hidden": false,
    "execution_start": 1689555920016,
    "execution_millis": 63,
    "deepnote_to_be_reexecuted": false,
    "deepnote_app_is_code_hidden": false,
    "cell_id": "85ed2f302da9437db9a5038c65cbe664",
    "deepnote_cell_type": "code"
   },
   "outputs": [],
   "execution_count": null
  },
  {
   "cell_type": "code",
   "source": [
    "# db_summary = extractive_summarization(text_analytics_client, db)\n",
    "# random_summary = abstractive_summarization(text_analytics_client, random_numbers)"
   ],
   "metadata": {
    "source_hash": null,
    "is_code_hidden": true,
    "execution_start": 1689555920057,
    "execution_millis": 34,
    "deepnote_to_be_reexecuted": false,
    "deepnote_app_is_code_hidden": true,
    "cell_id": "19b921a1cfcc4578bc2ca4eb2802b3f1",
    "deepnote_cell_type": "code"
   },
   "outputs": [],
   "execution_count": null
  },
  {
   "cell_type": "code",
   "source": [
    "# sum_sum = [page for array in random_summary for page in array]"
   ],
   "metadata": {
    "source_hash": null,
    "is_code_hidden": true,
    "execution_start": 1689555920083,
    "execution_millis": 49,
    "deepnote_to_be_reexecuted": false,
    "deepnote_app_is_code_hidden": true,
    "cell_id": "3d7a6035a90049af84289db9bef1aabb",
    "deepnote_cell_type": "code"
   },
   "outputs": [],
   "execution_count": null
  },
  {
   "cell_type": "markdown",
   "source": [
    "### Persistence:"
   ],
   "metadata": {
    "formattedRanges": [],
    "cell_id": "bdeed58498034c37a3698a64bc7686b9",
    "deepnote_cell_type": "text-cell-h3"
   }
  },
  {
   "cell_type": "code",
   "source": [
    "def persistence(datalist:list[str], name:str) -> None:\n",
    "    with open(name, mode=\"a\", encoding='utf8') as f:\n",
    "        for letter in datalist:\n",
    "            f.write(letter)"
   ],
   "metadata": {
    "source_hash": null,
    "is_code_hidden": false,
    "execution_start": 1689556782206,
    "execution_millis": 16,
    "deepnote_to_be_reexecuted": false,
    "deepnote_app_is_code_hidden": false,
    "cell_id": "cd387784d02342f7bbff0b8c2c3b7eb7",
    "deepnote_cell_type": "code"
   },
   "outputs": [],
   "execution_count": null
  },
  {
   "cell_type": "code",
   "source": [
    "persistence(doc_summ, \"jum.pdf\")"
   ],
   "metadata": {
    "source_hash": null,
    "execution_start": 1689556806359,
    "execution_millis": 13,
    "deepnote_to_be_reexecuted": false,
    "cell_id": "3514197b2c16427c8707cd09b0f0caee",
    "deepnote_cell_type": "code"
   },
   "outputs": [],
   "execution_count": null
  },
  {
   "cell_type": "markdown",
   "source": [
    "<a style='text-decoration:none;line-height:16px;display:flex;color:#5B5B62;padding:10px;justify-content:end;' href='https://deepnote.com?utm_source=created-in-deepnote-cell&projectId=67cfeb36-b07e-45a6-acf2-83ce38aa6dfe' target=\"_blank\">\n",
    "<img alt='Created in deepnote.com' style='display:inline;max-height:16px;margin:0px;margin-right:7.5px;' src='data:image/svg+xml;base64,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' > </img>\n",
    "Created in <span style='font-weight:600;margin-left:4px;'>Deepnote</span></a>"
   ],
   "metadata": {
    "created_in_deepnote_cell": true,
    "deepnote_cell_type": "markdown"
   }
  }
 ],
 "nbformat": 4,
 "nbformat_minor": 0,
 "metadata": {
  "deepnote": {},
  "orig_nbformat": 2,
  "deepnote_notebook_id": "2da24bb1cd6942749268d6c3638bdb7f",
  "deepnote_persisted_session": {
   "createdAt": "2023-07-17T01:23:09.264Z"
  },
  "deepnote_execution_queue": []
 }
}
