{
  "cells": [
    {
      "cell_type": "code",
      "source": "!pip install -r requirements.txt",
      "metadata": {
        "cell_id": "05cd903ee0244d0699366dd0863cafd0",
        "source_hash": "7958d4a9",
        "execution_start": 1688354858843,
        "execution_millis": 4578,
        "is_output_hidden": true,
        "deepnote_to_be_reexecuted": false,
        "deepnote_cell_type": "code"
      },
      "outputs": [
        {
          "name": "stdout",
          "text": "Requirement already satisfied: pdfminer.six==20221105 in /root/venv/lib/python3.9/site-packages (from -r requirements.txt (line 1)) (20221105)\nRequirement already satisfied: azure-ai-textanalytics==5.3.0b2 in /root/venv/lib/python3.9/site-packages (from -r requirements.txt (line 2)) (5.3.0b2)\nRequirement already satisfied: PyPDF2==3.0.1 in /root/venv/lib/python3.9/site-packages (from -r requirements.txt (line 3)) (3.0.1)\nRequirement already satisfied: cryptography>=36.0.0 in /shared-libs/python3.9/py/lib/python3.9/site-packages (from pdfminer.six==20221105->-r requirements.txt (line 1)) (36.0.2)\nRequirement already satisfied: charset-normalizer>=2.0.0 in /shared-libs/python3.9/py-core/lib/python3.9/site-packages (from pdfminer.six==20221105->-r requirements.txt (line 1)) (2.1.1)\nRequirement already satisfied: isodate<1.0.0,>=0.6.1 in /shared-libs/python3.9/py/lib/python3.9/site-packages (from azure-ai-textanalytics==5.3.0b2->-r requirements.txt (line 2)) (0.6.1)\nRequirement already satisfied: typing-extensions>=4.0.1 in /shared-libs/python3.9/py/lib/python3.9/site-packages (from azure-ai-textanalytics==5.3.0b2->-r requirements.txt (line 2)) (4.4.0)\nRequirement already satisfied: azure-core<2.0.0,>=1.24.0 in /root/venv/lib/python3.9/site-packages (from azure-ai-textanalytics==5.3.0b2->-r requirements.txt (line 2)) (1.27.1)\nRequirement already satisfied: azure-common~=1.1 in /root/venv/lib/python3.9/site-packages (from azure-ai-textanalytics==5.3.0b2->-r requirements.txt (line 2)) (1.1.28)\nRequirement already satisfied: six>=1.11.0 in /shared-libs/python3.9/py-core/lib/python3.9/site-packages (from azure-core<2.0.0,>=1.24.0->azure-ai-textanalytics==5.3.0b2->-r requirements.txt (line 2)) (1.16.0)\nRequirement already satisfied: requests>=2.18.4 in /shared-libs/python3.9/py/lib/python3.9/site-packages (from azure-core<2.0.0,>=1.24.0->azure-ai-textanalytics==5.3.0b2->-r requirements.txt (line 2)) (2.28.1)\nRequirement already satisfied: cffi>=1.12 in /shared-libs/python3.9/py-core/lib/python3.9/site-packages (from cryptography>=36.0.0->pdfminer.six==20221105->-r requirements.txt (line 1)) (1.15.1)\nRequirement already satisfied: pycparser in /shared-libs/python3.9/py-core/lib/python3.9/site-packages (from cffi>=1.12->cryptography>=36.0.0->pdfminer.six==20221105->-r requirements.txt (line 1)) (2.21)\nRequirement already satisfied: idna<4,>=2.5 in /shared-libs/python3.9/py-core/lib/python3.9/site-packages (from requests>=2.18.4->azure-core<2.0.0,>=1.24.0->azure-ai-textanalytics==5.3.0b2->-r requirements.txt (line 2)) (3.4)\nRequirement already satisfied: urllib3<1.27,>=1.21.1 in /shared-libs/python3.9/py/lib/python3.9/site-packages (from requests>=2.18.4->azure-core<2.0.0,>=1.24.0->azure-ai-textanalytics==5.3.0b2->-r requirements.txt (line 2)) (1.26.12)\nRequirement already satisfied: certifi>=2017.4.17 in /shared-libs/python3.9/py/lib/python3.9/site-packages (from requests>=2.18.4->azure-core<2.0.0,>=1.24.0->azure-ai-textanalytics==5.3.0b2->-r requirements.txt (line 2)) (2022.9.24)\n\u001b[33mWARNING: You are using pip version 22.0.4; however, version 23.1.2 is available.\nYou should consider upgrading via the '/root/venv/bin/python -m pip install --upgrade pip' command.\u001b[0m\u001b[33m\n\u001b[0m",
          "output_type": "stream"
        }
      ],
      "execution_count": 1
    },
    {
      "cell_type": "code",
      "source": "import re\nimport os\n\nfrom pdfminer.high_level import extract_text, extract_pages\nfrom azure.ai.textanalytics import TextAnalyticsClient, ExtractSummaryAction\nfrom azure.core.credentials import AzureKeyCredential",
      "metadata": {
        "source_hash": "a8e2f6bb",
        "execution_start": 1688354863286,
        "execution_millis": 320,
        "deepnote_to_be_reexecuted": false,
        "cell_id": "e5a930bb84114ff78c96f85dc00d93e2",
        "deepnote_cell_type": "code"
      },
      "outputs": [],
      "execution_count": 2
    },
    {
      "cell_type": "markdown",
      "source": "## Extraction",
      "metadata": {
        "cell_id": "6116f511905e4c85a6e3ff104763eae5",
        "formattedRanges": [],
        "deepnote_cell_type": "text-cell-h2"
      }
    },
    {
      "cell_type": "code",
      "source": "page_pattern = re.compile(r'Página\\s\\d+\\sde\\s\\d+')\ntext_pattern = re.compile(r\"1\\.\\d\")\ncap_pattern = re.compile(r\"\\d\\.\\s+[A-Z]+\")",
      "metadata": {
        "cell_id": "fa62d8457f0e43f7b262a7979ecdf54e",
        "source_hash": "fb9c325c",
        "execution_start": 1688354863611,
        "execution_millis": 12,
        "deepnote_to_be_reexecuted": false,
        "deepnote_cell_type": "code"
      },
      "outputs": [],
      "execution_count": 3
    },
    {
      "cell_type": "code",
      "source": "random_numbers = extract_text(\"/work/pdf/Generar numeros pseudo aleatorios.pdf\")\npoo_objects = extract_text(\"/work/pdf/POO Clases y Objetos.pdf\")\ndb = extract_text(\"/work/pdf/Bases de datos.pdf\")",
      "metadata": {
        "cell_id": "53750f0350864c3493109ccb1e9873ca",
        "source_hash": "6fe1ac2",
        "execution_start": 1688354863632,
        "execution_millis": 8313,
        "deepnote_to_be_reexecuted": false,
        "deepnote_cell_type": "code"
      },
      "outputs": [],
      "execution_count": 4
    },
    {
      "cell_type": "code",
      "source": "random_numbers = re.split(text_pattern,random_numbers)",
      "metadata": {
        "cell_id": "90593dfb7bd64421a956258456d31bc9",
        "source_hash": "94535601",
        "execution_start": 1688354871940,
        "execution_millis": 17,
        "deepnote_to_be_reexecuted": false,
        "deepnote_cell_type": "code"
      },
      "outputs": [],
      "execution_count": 5
    },
    {
      "cell_type": "code",
      "source": "# db = [page for array in db for page in array]\nrandom_numbers = random_numbers[-9:]",
      "metadata": {
        "cell_id": "9e6b1a79b2104bb1ab9f2514a9d0c544",
        "source_hash": "9b8e9351",
        "output_cleared": false,
        "execution_start": 1688354871952,
        "execution_millis": 15,
        "deepnote_to_be_reexecuted": false,
        "deepnote_cell_type": "code"
      },
      "outputs": [],
      "execution_count": 6
    },
    {
      "cell_type": "markdown",
      "source": "Due the split was in number.number pattern, at index the document was splitted multiple time, so was necessary remove those splits. From there borns the new caps variable.",
      "metadata": {
        "cell_id": "cdcaee0fcff14f09b417f19569a73529",
        "formattedRanges": [],
        "deepnote_cell_type": "text-cell-p"
      }
    },
    {
      "cell_type": "markdown",
      "source": "## Traslation",
      "metadata": {
        "cell_id": "924aaef67db6461cb1f5b0d59472316e",
        "formattedRanges": [],
        "deepnote_cell_type": "text-cell-h2"
      }
    },
    {
      "cell_type": "markdown",
      "source": "Using the traslation functionality to traslate from english output to spanish due model gives the output in english.",
      "metadata": {
        "cell_id": "193543f5-af06-4329-879c-4bf4adce19f8",
        "formattedRanges": [],
        "deepnote_cell_type": "text-cell-p"
      }
    },
    {
      "cell_type": "code",
      "source": "",
      "metadata": {
        "cell_id": "a6c02962a6d546e384eda23e6fc6daa8",
        "source_hash": "b623e53d",
        "execution_start": 1688354871962,
        "execution_millis": 11,
        "deepnote_to_be_reexecuted": false,
        "deepnote_cell_type": "code"
      },
      "outputs": [],
      "execution_count": 7
    },
    {
      "cell_type": "markdown",
      "source": "## Analysis",
      "metadata": {
        "cell_id": "d6be24530856477d933d91a58419420a",
        "formattedRanges": [],
        "deepnote_cell_type": "text-cell-h2"
      }
    },
    {
      "cell_type": "markdown",
      "source": "Using language services from Azure Cognitive Services from Azure",
      "metadata": {
        "cell_id": "64ede549-2d97-4fe7-8fd9-22f8581f88b1",
        "formattedRanges": [],
        "deepnote_cell_type": "text-cell-p"
      }
    },
    {
      "cell_type": "markdown",
      "source": "### Authentication:",
      "metadata": {
        "cell_id": "3eb2c8ebec1944b49695a8d8dab2caae",
        "formattedRanges": [],
        "deepnote_cell_type": "text-cell-h3"
      }
    },
    {
      "cell_type": "code",
      "source": "key = os.environ[\"KEY\"]\nendpoint = os.environ[\"ENDPOINT\"]",
      "metadata": {
        "source_hash": "2ff6404b",
        "execution_start": 1688354872010,
        "execution_millis": 11,
        "deepnote_to_be_reexecuted": false,
        "cell_id": "797315cfb96a403d8cf1f480d8bee70c",
        "deepnote_cell_type": "code"
      },
      "outputs": [],
      "execution_count": 7
    },
    {
      "cell_type": "code",
      "source": "text_analytics_client = TextAnalyticsClient(\n        endpoint=endpoint,\n        credential=AzureKeyCredential(key),\n    )",
      "metadata": {
        "cell_id": "193cc69e956046a1bdcfd565aefd3446",
        "source_hash": "574e842d",
        "execution_start": 1688354872057,
        "execution_millis": 5,
        "deepnote_to_be_reexecuted": false,
        "deepnote_cell_type": "code"
      },
      "outputs": [],
      "execution_count": 8
    },
    {
      "cell_type": "markdown",
      "source": "### Extractive:",
      "metadata": {
        "cell_id": "65d2938edbdc42ddb3d1ca43e6c62bd3",
        "formattedRanges": [],
        "deepnote_cell_type": "text-cell-h3"
      }
    },
    {
      "cell_type": "code",
      "source": "def extractive_summarization(client, doc):\n\n    document = doc\n    output = []\n    summary = ''\n\n    poller = text_analytics_client.begin_extract_summary(document)\n    extract_summary_results = poller.result()\n    for result in extract_summary_results:\n        if result.kind == \"ExtractiveSummarization\":\n            summary =  \" \".join([sentence.text for sentence in result.sentences])\n            output.append(summary)\n            print(\"Summaries extractive:\")\n        elif result.is_error is True:\n            print(\"...Is an error with code '{}' and message '{}'\".format(\n                result.error.code, result.error.message\n            ))\n    \n    return output",
      "metadata": {
        "source_hash": "4be8642d",
        "is_code_hidden": true,
        "execution_start": 1688354872058,
        "execution_millis": 5,
        "deepnote_to_be_reexecuted": false,
        "deepnote_app_is_code_hidden": false,
        "cell_id": "0303b27218f5442da4de77c69a7cb728",
        "deepnote_cell_type": "code"
      },
      "outputs": [],
      "execution_count": 9
    },
    {
      "cell_type": "markdown",
      "source": "### Abstractive:",
      "metadata": {
        "cell_id": "961a535291a64b2283bf48d8bde0b856",
        "formattedRanges": [],
        "deepnote_cell_type": "text-cell-h3"
      }
    },
    {
      "cell_type": "code",
      "source": "def abstractive_summarization(client,docs:list[str]):\n\n    document:list[str] = docs\n    output = []\n\n    poller = text_analytics_client.begin_abstractive_summary(document)\n    abstractive_summary_results = poller.result()\n    for result in abstractive_summary_results:\n        if result.kind == \"AbstractiveSummarization\":\n            print(\"Summaries abstracted:\")\n            sumsum = [summary.text for summary in result.summaries]\n            output.append(sumsum)\n        elif result.is_error is True:\n            print(\"...Is an error with code '{}' and message '{}'\".format(\n                result.error.code, result.error.message\n            ))    \n    \n    return output",
      "metadata": {
        "cell_id": "85ed2f302da9437db9a5038c65cbe664",
        "source_hash": "ae7b3040",
        "is_code_hidden": true,
        "execution_start": 1688354872059,
        "execution_millis": 26,
        "deepnote_to_be_reexecuted": false,
        "deepnote_cell_type": "code"
      },
      "outputs": [],
      "execution_count": 10
    },
    {
      "cell_type": "code",
      "source": "# db_summary = extractive_summarization(text_analytics_client, db)\n# random_summary = abstractive_summarization(text_analytics_client, random_numbers)",
      "metadata": {
        "source_hash": "d837c84e",
        "execution_start": 1688354872060,
        "execution_millis": 32,
        "deepnote_to_be_reexecuted": false,
        "cell_id": "19b921a1cfcc4578bc2ca4eb2802b3f1",
        "deepnote_cell_type": "code"
      },
      "outputs": [],
      "execution_count": 11
    },
    {
      "cell_type": "code",
      "source": "# sum_sum = [page for array in random_summary for page in array]",
      "metadata": {
        "source_hash": "761ad4f2",
        "execution_start": 1688354872080,
        "execution_millis": 38,
        "deepnote_to_be_reexecuted": false,
        "cell_id": "3d7a6035a90049af84289db9bef1aabb",
        "deepnote_cell_type": "code"
      },
      "outputs": [],
      "execution_count": 12
    },
    {
      "cell_type": "markdown",
      "source": "### Persistence:",
      "metadata": {
        "cell_id": "bdeed58498034c37a3698a64bc7686b9",
        "formattedRanges": [],
        "deepnote_cell_type": "text-cell-h3"
      }
    },
    {
      "cell_type": "code",
      "source": "def persistence(datalist:list[str], name:str) -> None:\n    with open(name, mode=\"a\", encoding='utf8') as f:\n        for letter in datalist:\n            f.write(letter)",
      "metadata": {
        "source_hash": "ec0ae4be",
        "is_code_hidden": false,
        "execution_start": 1688354872162,
        "execution_millis": 15,
        "deepnote_to_be_reexecuted": false,
        "deepnote_app_is_code_hidden": false,
        "cell_id": "cd387784d02342f7bbff0b8c2c3b7eb7",
        "deepnote_cell_type": "code"
      },
      "outputs": [],
      "execution_count": 13
    },
    {
      "cell_type": "code",
      "source": "# persistence(sum_sum, \"random_b.txt\")",
      "metadata": {
        "source_hash": "ad8741b1",
        "execution_start": 1688354872163,
        "execution_millis": 4,
        "deepnote_to_be_reexecuted": false,
        "cell_id": "54c03773ab4f4a7e8e8fc2a116f2f42a",
        "deepnote_cell_type": "code"
      },
      "outputs": [],
      "execution_count": 14
    },
    {
      "cell_type": "markdown",
      "source": "<a style='text-decoration:none;line-height:16px;display:flex;color:#5B5B62;padding:10px;justify-content:end;' href='https://deepnote.com?utm_source=created-in-deepnote-cell&projectId=67cfeb36-b07e-45a6-acf2-83ce38aa6dfe' target=\"_blank\">\n<img alt='Created in deepnote.com' style='display:inline;max-height:16px;margin:0px;margin-right:7.5px;' src='data:image/svg+xml;base64,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' > </img>\nCreated in <span style='font-weight:600;margin-left:4px;'>Deepnote</span></a>",
      "metadata": {
        "created_in_deepnote_cell": true,
        "deepnote_cell_type": "markdown"
      }
    }
  ],
  "nbformat": 4,
  "nbformat_minor": 0,
  "metadata": {
    "deepnote": {},
    "orig_nbformat": 2,
    "deepnote_notebook_id": "2da24bb1cd6942749268d6c3638bdb7f",
    "deepnote_persisted_session": {
      "createdAt": "2023-07-03T03:08:12.697Z"
    },
    "deepnote_execution_queue": []
  }
}